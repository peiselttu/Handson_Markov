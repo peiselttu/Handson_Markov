{
  "nbformat": 4,
  "nbformat_minor": 0,
  "metadata": {
    "colab": {
      "name": "Bayesian_Knowledge_Tracing(forward_backward).ipynb",
      "provenance": [],
      "collapsed_sections": []
    },
    "kernelspec": {
      "name": "python3",
      "display_name": "Python 3"
    }
  },
  "cells": [
    {
      "cell_type": "markdown",
      "metadata": {
        "id": "QJvhAvVk3Yga",
        "colab_type": "text"
      },
      "source": [
        "# Problem Setting up\n",
        "##### Notice: the example comes from wiki"
      ]
    },
    {
      "cell_type": "code",
      "metadata": {
        "id": "zHLwW2TEDds5",
        "colab_type": "code",
        "colab": {}
      },
      "source": [
        "states=('Healthy','Fever')\n",
        "end_state='E'\n",
        "observations=('normal','cold','dizzy')\n",
        "start_probability={'Healthy':0.6,'Fever':0.4}\n",
        "transition_probability={'Healthy':{'Healthy':0.69,'Fever':0.3,'E':0.01},\n",
        "                        'Fever':{'Healthy':0.4,'Fever':0.59,'E':0.01}}\n",
        "emission_probability={'Healthy':{'normal':0.5,'cold':0.4,'dizzy':0.1},\n",
        "                      'Fever':{'normal':0.1,'cold':0.3,'dizzy':0.6}}"
      ],
      "execution_count": 0,
      "outputs": []
    },
    {
      "cell_type": "code",
      "metadata": {
        "id": "X4PxI6kD-V0M",
        "colab_type": "code",
        "colab": {
          "base_uri": "https://localhost:8080/",
          "height": 68
        },
        "outputId": "58d20d02-fa2b-4ecc-edb0-489bb93d57dd"
      },
      "source": [
        "for i, observation_i_plus in enumerate(reversed(observations[1:]+(None,))):\n",
        "  print(str(i)+':'+str(observation_i_plus))"
      ],
      "execution_count": 9,
      "outputs": [
        {
          "output_type": "stream",
          "text": [
            "0:None\n",
            "1:dizzy\n",
            "2:cold\n"
          ],
          "name": "stdout"
        }
      ]
    },
    {
      "cell_type": "code",
      "metadata": {
        "id": "RITqtSBTDzj6",
        "colab_type": "code",
        "colab": {}
      },
      "source": [
        "def fwd_bwk(observations,states,start_proba,trans_proba,emm_proba,end_st): # the final state is not in the observation list\n",
        "  ''' Forward process'''\n",
        "  fwd=[] # a list to store a dictionary that the state distribution at each time step\n",
        "  f_prev={}\n",
        "  for i,observation_i in enumerate(observations):\n",
        "    f_curr={} # a dict to store the probabilities of the states currently\n",
        "    for st in states:\n",
        "      if i==0:  # if it is the first time step the probability of the state is the initial probability\n",
        "        prev_f_sum=start_proba[st]\n",
        "      else: \n",
        "        '''if it is not the first time step, the probability of the state is the sum of \n",
        "        the all state transfromed from the previously time step given the current observation'''\n",
        "        prev_f_sum=sum(f_prev[k]*trans_proba[k][st] for k in states)\n",
        "\n",
        "      f_curr[st]=emm_proba[st][observation_i]*prev_f_sum\n",
        "\n",
        "    fwd.append(f_curr)\n",
        "    f_prev=f_curr\n",
        "  p_fwd=sum(f_curr[k]*trans_proba[k][end_st] for k in states)\n",
        "\n",
        "  '''Backward process'''\n",
        "  bwk=[]\n",
        "  p_prev={} # to store the state probabilities in the previous time step\n",
        "  for i,observation_i_plus in enumerate(reversed(observations[1:]+(None,))):\n",
        "    b_curr={}\n",
        "    for st in states:\n",
        "      if i==0: # the base case for backward process\n",
        "        b_curr[st]=trans_proba[st][end_st]\n",
        "      else:\n",
        "        b_curr[st]=sum(trans_proba[st][l]*b_prev[l]*emm_proba[l][observation_i_plus] for l in states)\n",
        "    bwk.insert(0,b_curr)\n",
        "    b_prev=b_curr\n",
        "  \n",
        "  p_bwk=sum(start_proba[l]*emm_proba[l][observations[0]]*b_curr[l] for l in states)\n",
        "\n",
        "  # Merging the two parts\n",
        "  posterior=[]\n",
        "  for i in range(len(observations)):\n",
        "    posterior.append({st:fwd[i][st]*bwk[i][st]/p_fwd for st in states})\n",
        "\n",
        "  # assert p_fwd==p_bwk\n",
        "  return fwd,bwk,posterior,p_fwd\n",
        "\n",
        "\n",
        "fwd,bwk,posterior,p_fwd=fwd_bwk(observations,states,start_probability,transition_probability,emission_probability,end_state)"
      ],
      "execution_count": 0,
      "outputs": []
    },
    {
      "cell_type": "code",
      "metadata": {
        "id": "8ruWMbhJ8V8b",
        "colab_type": "code",
        "colab": {
          "base_uri": "https://localhost:8080/",
          "height": 68
        },
        "outputId": "672f92ab-5e4b-4e0e-94b5-1a7844a510fe"
      },
      "source": [
        "fwd"
      ],
      "execution_count": 19,
      "outputs": [
        {
          "output_type": "execute_result",
          "data": {
            "text/plain": [
              "[{'Fever': 0.04000000000000001, 'Healthy': 0.3},\n",
              " {'Fever': 0.03408, 'Healthy': 0.0892},\n",
              " {'Fever': 0.028120319999999997, 'Healthy': 0.007518}]"
            ]
          },
          "metadata": {
            "tags": []
          },
          "execution_count": 19
        }
      ]
    },
    {
      "cell_type": "code",
      "metadata": {
        "id": "_D0I1AeDDe8f",
        "colab_type": "code",
        "colab": {
          "base_uri": "https://localhost:8080/",
          "height": 68
        },
        "outputId": "24e9aab9-0bff-403b-ba74-6ad49201e556"
      },
      "source": [
        "bwk"
      ],
      "execution_count": 20,
      "outputs": [
        {
          "output_type": "execute_result",
          "data": {
            "text/plain": [
              "[{'Fever': 0.00109578, 'Healthy': 0.00104184},\n",
              " {'Fever': 0.00394, 'Healthy': 0.00249},\n",
              " {'Fever': 0.01, 'Healthy': 0.01}]"
            ]
          },
          "metadata": {
            "tags": []
          },
          "execution_count": 20
        }
      ]
    },
    {
      "cell_type": "code",
      "metadata": {
        "id": "YvtyZHonDmH9",
        "colab_type": "code",
        "colab": {
          "base_uri": "https://localhost:8080/",
          "height": 68
        },
        "outputId": "6eeb4dc1-4374-4b7d-9fc0-acfc85fa6248"
      },
      "source": [
        "posterior"
      ],
      "execution_count": 21,
      "outputs": [
        {
          "output_type": "execute_result",
          "data": {
            "text/plain": [
              "[{'Fever': 0.1229889624426741, 'Healthy': 0.8770110375573261},\n",
              " {'Fever': 0.3767719690490461, 'Healthy': 0.623228030950954},\n",
              " {'Fever': 0.7890472951586943, 'Healthy': 0.2109527048413057}]"
            ]
          },
          "metadata": {
            "tags": []
          },
          "execution_count": 21
        }
      ]
    },
    {
      "cell_type": "code",
      "metadata": {
        "id": "euFQ6ry8Dn91",
        "colab_type": "code",
        "colab": {
          "base_uri": "https://localhost:8080/",
          "height": 34
        },
        "outputId": "acab397a-ccb0-477c-cceb-216408ee36f7"
      },
      "source": [
        "p_fwd"
      ],
      "execution_count": 27,
      "outputs": [
        {
          "output_type": "execute_result",
          "data": {
            "text/plain": [
              "0.00035638319999999995"
            ]
          },
          "metadata": {
            "tags": []
          },
          "execution_count": 27
        }
      ]
    },
    {
      "cell_type": "code",
      "metadata": {
        "id": "Yo2PlBsBD0E2",
        "colab_type": "code",
        "colab": {}
      },
      "source": [
        ""
      ],
      "execution_count": 0,
      "outputs": []
    }
  ]
}